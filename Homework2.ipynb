{
 "cells": [
  {
   "cell_type": "code",
   "execution_count": 1,
   "id": "834ba10c-f737-46b9-87fe-0a197fccd44f",
   "metadata": {},
   "outputs": [],
   "source": [
    "import numpy as np"
   ]
  },
  {
   "cell_type": "markdown",
   "id": "f2b6d6fa-1289-49fa-8fba-76bdacb08d7c",
   "metadata": {},
   "source": [
    "## Numpy kütüphanesinde 10 adet seçtikleri fonksiyonu açıklayarak kullanım örneği olan jupyter notebook ile paylaşılacak."
   ]
  },
  {
   "cell_type": "markdown",
   "id": "d77d6930-b38c-4ee1-9d9f-84fe74dd1650",
   "metadata": {},
   "source": [
    "#### 1-Dizi oluşturmak için np.array() fonksiyonu kullanılır."
   ]
  },
  {
   "cell_type": "code",
   "execution_count": 2,
   "id": "e4c71243-36e9-4ef3-928f-39108d0d5c62",
   "metadata": {},
   "outputs": [
    {
     "name": "stdout",
     "output_type": "stream",
     "text": [
      "[1 2 3 4 5]\n"
     ]
    }
   ],
   "source": [
    "n1 = np.array([1, 2, 3, 4, 5])\n",
    "print(n1)"
   ]
  },
  {
   "cell_type": "markdown",
   "id": "bb959f35-a683-45f1-959d-861325d4cab2",
   "metadata": {},
   "source": [
    "#### 2-Dizideki tüm elemanların toplamını döndürmek için np.sum() fonksiyonu kullanılır."
   ]
  },
  {
   "cell_type": "code",
   "execution_count": 6,
   "id": "b1c112ba-73cb-4706-bed6-a5b4d95ca80b",
   "metadata": {},
   "outputs": [
    {
     "name": "stdout",
     "output_type": "stream",
     "text": [
      "21\n"
     ]
    }
   ],
   "source": [
    "n2 =np.array([[1,2,3],[4,5,6]])\n",
    "toplam=np.sum(n2)\n",
    "print(toplam)"
   ]
  },
  {
   "cell_type": "markdown",
   "id": "1876b035-f233-4823-a1f4-08f36fbc54d2",
   "metadata": {},
   "source": [
    "#### 3-Dizideki elemanların ortalamasını almak için np.mean() fonksiyonu kullanılır."
   ]
  },
  {
   "cell_type": "code",
   "execution_count": 8,
   "id": "9da81c2c-6cd5-4362-9b40-a0139c4a11b1",
   "metadata": {},
   "outputs": [
    {
     "name": "stdout",
     "output_type": "stream",
     "text": [
      "15.0\n"
     ]
    }
   ],
   "source": [
    "n3=np.array([5,10,15,20,25])\n",
    "ortalama=np.mean(n3)\n",
    "print(ortalama)"
   ]
  },
  {
   "cell_type": "markdown",
   "id": "759208eb-1394-4a00-9490-c919ed14966e",
   "metadata": {},
   "source": [
    "#### 4-Dizideki en büyük elemanı bulmak için np.max() kullanılır."
   ]
  },
  {
   "cell_type": "code",
   "execution_count": 9,
   "id": "50e431e1-8835-4764-bb7e-6054a43fa81e",
   "metadata": {},
   "outputs": [
    {
     "name": "stdout",
     "output_type": "stream",
     "text": [
      "25\n"
     ]
    }
   ],
   "source": [
    "en_büyük_sayı=np.max(n3)\n",
    "print(en_büyük_sayı)"
   ]
  },
  {
   "cell_type": "markdown",
   "id": "a946e670-fb3d-44d9-8a80-27f4529edcd4",
   "metadata": {},
   "source": [
    "#### 5-Dizideki en küçük sayıyı bulmak için kullanılan fonksiyon ise np.min()'dir."
   ]
  },
  {
   "cell_type": "code",
   "execution_count": 10,
   "id": "9710dd92-e0df-4566-9fbb-e8ede9c93514",
   "metadata": {},
   "outputs": [
    {
     "name": "stdout",
     "output_type": "stream",
     "text": [
      "5\n"
     ]
    }
   ],
   "source": [
    "en_küçük_sayı=np.min(n3)\n",
    "print(en_küçük_sayı)"
   ]
  },
  {
   "cell_type": "markdown",
   "id": "69155f95-d9cf-4bbb-b7a3-41129e872d25",
   "metadata": {},
   "source": [
    "#### 6-Eğer diziyi yeniden şekillendiremek istersek yani boyutunu şekillendirmek istersek np.reshape() fonksiyonunu kullanırız.\n",
    "##### bu fonksiyon sadece boyutu istenilen yeni boyuta göre değiştirir eleman sayısı değişmez!"
   ]
  },
  {
   "cell_type": "code",
   "execution_count": 18,
   "id": "b52566b5-59cc-494e-bef9-a5128f97b1d9",
   "metadata": {},
   "outputs": [
    {
     "name": "stdout",
     "output_type": "stream",
     "text": [
      "[[10 20 30 40]\n",
      " [50 60 70 80]]\n"
     ]
    }
   ],
   "source": [
    "n4=np.array([10,20,30,40,50,60,70,80])\n",
    "reshape=n4.reshape(2,4)\n",
    "print(reshape)"
   ]
  },
  {
   "cell_type": "markdown",
   "id": "bba80539-7002-4afb-a44f-66b2c1a8a119",
   "metadata": {},
   "source": [
    "#### 7-Verilen 2 sayının arasındaki sayıları arraye çeviren ve yazan  np.arange() fonksiyonudur."
   ]
  },
  {
   "cell_type": "code",
   "execution_count": 23,
   "id": "bc21dca2-0f57-49ef-a99c-16105a830593",
   "metadata": {},
   "outputs": [
    {
     "data": {
      "text/plain": [
       "array([ 0,  1,  2,  3,  4,  5,  6,  7,  8,  9, 10, 11, 12, 13, 14, 15, 16,\n",
       "       17, 18, 19, 20, 21, 22, 23, 24, 25, 26, 27, 28, 29, 30, 31, 32, 33,\n",
       "       34, 35, 36, 37, 38, 39, 40, 41, 42, 43, 44, 45, 46, 47, 48, 49, 50,\n",
       "       51, 52, 53, 54, 55, 56, 57, 58, 59, 60, 61, 62, 63, 64, 65, 66, 67,\n",
       "       68, 69, 70, 71, 72, 73, 74, 75, 76, 77, 78, 79, 80, 81, 82, 83, 84,\n",
       "       85, 86, 87, 88, 89, 90, 91, 92, 93, 94, 95, 96, 97, 98, 99])"
      ]
     },
     "execution_count": 23,
     "metadata": {},
     "output_type": "execute_result"
    }
   ],
   "source": [
    "np.arange(0,100)"
   ]
  },
  {
   "cell_type": "code",
   "execution_count": 24,
   "id": "61c7c62f-270d-4075-8c9c-1ca27a82d5d3",
   "metadata": {},
   "outputs": [],
   "source": [
    "#istersem atalatarakte ilerletebilirim."
   ]
  },
  {
   "cell_type": "code",
   "execution_count": 26,
   "id": "adabf427-5a70-4288-b881-790a2a92286b",
   "metadata": {},
   "outputs": [
    {
     "data": {
      "text/plain": [
       "array([ 0,  5, 10, 15, 20, 25, 30, 35, 40, 45, 50, 55, 60, 65, 70, 75, 80,\n",
       "       85, 90, 95])"
      ]
     },
     "execution_count": 26,
     "metadata": {},
     "output_type": "execute_result"
    }
   ],
   "source": [
    "np.arange(0,100,5)"
   ]
  },
  {
   "cell_type": "markdown",
   "id": "197f7df2-ce1f-41d7-9bdb-25ca56f415e3",
   "metadata": {},
   "source": [
    "#### 8-np.zeros() fonksiyonu belirttiğiniz miktar kadar 0'lardan oluşan bir Array yaratacaktır."
   ]
  },
  {
   "cell_type": "code",
   "execution_count": 27,
   "id": "b448ea89-aa20-4b93-816b-e684b3b2a8ad",
   "metadata": {},
   "outputs": [
    {
     "data": {
      "text/plain": [
       "array([0., 0., 0., 0., 0., 0., 0., 0., 0., 0., 0., 0., 0., 0., 0., 0., 0.,\n",
       "       0., 0., 0.])"
      ]
     },
     "execution_count": 27,
     "metadata": {},
     "output_type": "execute_result"
    }
   ],
   "source": [
    "np.zeros(20)"
   ]
  },
  {
   "cell_type": "markdown",
   "id": "b41f2375-55df-46cf-9468-c27826e7b83e",
   "metadata": {},
   "source": [
    "#### 9-np.random.randint() --> Bu fonksiyon ile belirlediğimiz sayılar arasında belirlediğimiz kadar rasgele sayı çıktısı vermeyi sağlıyor."
   ]
  },
  {
   "cell_type": "code",
   "execution_count": 31,
   "id": "28529674-10fe-44c2-ac4e-f40461a8946e",
   "metadata": {},
   "outputs": [
    {
     "data": {
      "text/plain": [
       "array([ 50, 289, 172,  48, 185, 109], dtype=int32)"
      ]
     },
     "execution_count": 31,
     "metadata": {},
     "output_type": "execute_result"
    }
   ],
   "source": [
    "np.random.randint(10,300,6) #10 ile 300 arasında rasgele 5 tane sayıyı ver demek istedik.o kısma bir şey yazmazsak 1 tane rasgele sayı verirdi."
   ]
  },
  {
   "cell_type": "markdown",
   "id": "c90a147a-c417-431f-a474-e78f961069e2",
   "metadata": {},
   "source": [
    "#### 9.1-np.random.rand() --> bu ise 0 ile 1 arasondaki sayıları rasgele vericektir."
   ]
  },
  {
   "cell_type": "code",
   "execution_count": 30,
   "id": "9301a514-6bca-4e48-b519-a51f6b36f84b",
   "metadata": {},
   "outputs": [
    {
     "data": {
      "text/plain": [
       "array([0.21032952, 0.42612554, 0.5352973 ])"
      ]
     },
     "execution_count": 30,
     "metadata": {},
     "output_type": "execute_result"
    }
   ],
   "source": [
    "np.random.rand(3)"
   ]
  },
  {
   "cell_type": "markdown",
   "id": "7366f1d8-be94-4d42-9ad3-35f114ceb066",
   "metadata": {},
   "source": [
    "#### 10-Determinant alabilmek için np.linalg.det() fonksiyonunu kullanıyoruz."
   ]
  },
  {
   "cell_type": "code",
   "execution_count": 37,
   "id": "13b1987e-385c-4807-9c00-501e9d18c5b4",
   "metadata": {},
   "outputs": [
    {
     "data": {
      "text/plain": [
       "np.float64(-2.0000000000000004)"
      ]
     },
     "execution_count": 37,
     "metadata": {},
     "output_type": "execute_result"
    }
   ],
   "source": [
    "np5=np.array([[1,2],[3,4]])\n",
    "np.linalg.det(np5)"
   ]
  },
  {
   "cell_type": "code",
   "execution_count": null,
   "id": "bcc4b28d-ee76-48c3-b100-beaddb3e0c23",
   "metadata": {},
   "outputs": [],
   "source": []
  }
 ],
 "metadata": {
  "kernelspec": {
   "display_name": "Python 3 (ipykernel)",
   "language": "python",
   "name": "python3"
  },
  "language_info": {
   "codemirror_mode": {
    "name": "ipython",
    "version": 3
   },
   "file_extension": ".py",
   "mimetype": "text/x-python",
   "name": "python",
   "nbconvert_exporter": "python",
   "pygments_lexer": "ipython3",
   "version": "3.9.21"
  }
 },
 "nbformat": 4,
 "nbformat_minor": 5
}
