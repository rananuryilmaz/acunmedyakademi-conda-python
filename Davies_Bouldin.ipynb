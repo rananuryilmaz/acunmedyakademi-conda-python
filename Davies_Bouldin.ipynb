{
 "cells": [
  {
   "cell_type": "markdown",
   "id": "2f56235f-8551-43f6-95b2-00bdd49795df",
   "metadata": {},
   "source": [
    "## -> Davies Bouldin Method Araştırılıp Uygulanacak"
   ]
  },
  {
   "cell_type": "markdown",
   "id": "52c13d5a-b97e-45f9-a4f4-b323520bee6f",
   "metadata": {},
   "source": [
    "Model değerlendirmesi, makine öğrenimi sürecinin önemli bir parçasıdır. Makine öğreniminde kümelemeyi değerlendirmeye gelince, küme sayısını optimize etmek kritik bir bileşendir. Davies-Bouldin Endeksi, aynı şeyi gerçekleştirmek için iyi bilinen bir ölçümdür - çiftler halinde en benzer kümeler arasındaki ortalama benzerliği karşılaştırarak kümeleme kalitesini değerlendirmeyi sağlar.\n"
   ]
  },
  {
   "cell_type": "markdown",
   "id": "c79c01d8-4e95-48f1-9325-b65f7d5b658b",
   "metadata": {},
   "source": [
    "#### Davies-Bouldin Endeksi\n",
    "Davies-Bouldin Endeksi, kümeleme modellerini değerlendirmek için kullanılan bir doğrulama metriğidir. Her kümenin, kendisine en çok benzeyen kümeyle olan ortalama benzerlik ölçüsü olarak hesaplanır. Bu bağlamda benzerlik, kümeler arası ve küme içi mesafeler arasındaki oran olarak tanımlanır. Bu nedenle, bu endeks daha az dağılıma sahip iyi ayrılmış kümeleri daha iyi bir puana sahip olarak sıralar.\n",
    "\n",
    "**Daha düşük endeks değerleri daha iyi bir kümeleme sonucunu gösterir. Endeks, kümeler arasındaki artan ayrım ve kümeler içindeki azalan varyasyon ile iyileştirilir (düşürülür).**"
   ]
  },
  {
   "cell_type": "markdown",
   "id": "e43d63fb-63b8-4f02-bb34-cca6a2a4f60c",
   "metadata": {},
   "source": [
    "Bu koşullar, tanımlanan endeksin simetrik ve negatif olmayan olmasını kısıtlar. Küme içi dağılımın kümeler arası ayrımına oranının bir fonksiyonu olarak tanımlanma şekli nedeniyle, daha düşük bir değer kümelemenin daha iyi olduğu anlamına gelir. Bu, her küme ile en çok benzeyeni arasındaki ortalama benzerliktir ve tüm kümeler üzerinden ortalaması alınır; burada benzerlik yukarıda S i olarak tanımlanır . Bu, hiçbir kümenin diğerine benzemek zorunda olmadığı fikrini doğrular ve dolayısıyla en iyi kümeleme şeması esasen Davies-Bouldin endeksini en aza indirir. Bu şekilde tanımlanan bu endeks, tüm i kümeleri üzerinden bir ortalamadır ve dolayısıyla verilerde gerçekte kaç kümenin var olduğuna karar vermenin iyi bir ölçüsü, onu hesaplandığı küme sayısına göre çizmektir. Bu değerin en düşük olduğu i sayısı , verilerin ideal olarak sınıflandırılabileceği küme sayısının iyi bir ölçüsüdür. Bunun , k değerinin önceden bilinmediği kmeans algoritmasında k değerine karar vermede uygulamaları vardır."
   ]
  },
  {
   "cell_type": "markdown",
   "id": "9f8f28e6-e21f-47aa-83d6-6007e92fad39",
   "metadata": {},
   "source": [
    "***Davies-Bouldin endeksi diğer kümeleme değerlendirme ölçütlerine kıyasla çok etkilidir***\n",
    "\n",
    "Çünkü;\n",
    "\n",
    "•Esnektir ve herhangi sayıda küme için çalışır.\n",
    "\n",
    "•Silhouette Puanı değerlendirme metriğinin aksine, kümelerin şekli hakkında herhangi bir varsayımda bulunmaz.\n",
    "\n",
    "•Kullanımı kolay ve sezgiseldir."
   ]
  },
  {
   "cell_type": "markdown",
   "id": "d63f5fb8-0d69-49ac-aa7e-f4c23e432dc4",
   "metadata": {},
   "source": [
    "##### ders uyguladığımız aynı csv üzerinden değerlendirelim ve grafikle en iyi skoru bulalım."
   ]
  },
  {
   "cell_type": "code",
   "execution_count": 7,
   "id": "1cf39169-17cb-47c6-95b1-1179310747b1",
   "metadata": {},
   "outputs": [],
   "source": [
    "import pandas as pd\n",
    "import numpy as np\n",
    "import matplotlib.pyplot as plt\n",
    "from sklearn.cluster import KMeans\n",
    "from sklearn.metrics import davies_bouldin_score"
   ]
  },
  {
   "cell_type": "code",
   "execution_count": 8,
   "id": "fafd9de7-b67e-43ef-a57e-4b16e1077dc0",
   "metadata": {},
   "outputs": [
    {
     "data": {
      "text/html": [
       "<div>\n",
       "<style scoped>\n",
       "    .dataframe tbody tr th:only-of-type {\n",
       "        vertical-align: middle;\n",
       "    }\n",
       "\n",
       "    .dataframe tbody tr th {\n",
       "        vertical-align: top;\n",
       "    }\n",
       "\n",
       "    .dataframe thead th {\n",
       "        text-align: right;\n",
       "    }\n",
       "</style>\n",
       "<table border=\"1\" class=\"dataframe\">\n",
       "  <thead>\n",
       "    <tr style=\"text-align: right;\">\n",
       "      <th></th>\n",
       "      <th>CustomerID</th>\n",
       "      <th>Gender</th>\n",
       "      <th>Age</th>\n",
       "      <th>Annual Income (k$)</th>\n",
       "      <th>Spending Score (1-100)</th>\n",
       "    </tr>\n",
       "  </thead>\n",
       "  <tbody>\n",
       "    <tr>\n",
       "      <th>0</th>\n",
       "      <td>1</td>\n",
       "      <td>Male</td>\n",
       "      <td>19</td>\n",
       "      <td>15</td>\n",
       "      <td>39</td>\n",
       "    </tr>\n",
       "    <tr>\n",
       "      <th>1</th>\n",
       "      <td>2</td>\n",
       "      <td>Male</td>\n",
       "      <td>21</td>\n",
       "      <td>15</td>\n",
       "      <td>81</td>\n",
       "    </tr>\n",
       "    <tr>\n",
       "      <th>2</th>\n",
       "      <td>3</td>\n",
       "      <td>Female</td>\n",
       "      <td>20</td>\n",
       "      <td>16</td>\n",
       "      <td>6</td>\n",
       "    </tr>\n",
       "  </tbody>\n",
       "</table>\n",
       "</div>"
      ],
      "text/plain": [
       "   CustomerID  Gender  Age  Annual Income (k$)  Spending Score (1-100)\n",
       "0           1    Male   19                  15                      39\n",
       "1           2    Male   21                  15                      81\n",
       "2           3  Female   20                  16                       6"
      ]
     },
     "execution_count": 8,
     "metadata": {},
     "output_type": "execute_result"
    }
   ],
   "source": [
    "df = pd.read_csv(\"Mall_Customers.csv\")\n",
    "df.head(3)"
   ]
  },
  {
   "cell_type": "code",
   "execution_count": 9,
   "id": "503e40f9-04f5-469f-924e-a8d3ab18b864",
   "metadata": {},
   "outputs": [],
   "source": [
    "X = df[[\"Annual Income (k$)\", \"Spending Score (1-100)\"]].values"
   ]
  },
  {
   "cell_type": "code",
   "execution_count": 10,
   "id": "717e2af9-7db5-42ea-abde-8970a7f47d83",
   "metadata": {},
   "outputs": [],
   "source": [
    "db_scores = []\n",
    "k_values = range(2, 11)\n",
    "for k in k_values:\n",
    "    kmeans = KMeans(n_clusters=k, random_state=42).fit(X)\n",
    "    labels = kmeans.labels_\n",
    "    score = davies_bouldin_score(X, labels)\n",
    "    db_scores.append(score)"
   ]
  },
  {
   "cell_type": "code",
   "execution_count": 19,
   "id": "914caba8-fd85-41a8-9c91-1d14b1b2bbf5",
   "metadata": {},
   "outputs": [
    {
     "data": {
      "image/png": "[encoded data removed]",
      "text/plain": [
       "<Figure size 800x400 with 1 Axes>"
      ]
     },
     "metadata": {},
     "output_type": "display_data"
    }
   ],
   "source": [
    "plt.figure(figsize=(8, 4))\n",
    "plt.plot(k_values, db_scores, marker='o')\n",
    "plt.title('Davies-Bouldin Index vs. Küme Sayısı')\n",
    "plt.xlabel('Küme Sayısı K')\n",
    "plt.ylabel('Davies-Bouldin Index')\n",
    "plt.grid(True)\n",
    "plt.show()"
   ]
  },
  {
   "cell_type": "code",
   "execution_count": 20,
   "id": "a2c72a0a-810e-436e-a6cf-5bdf61b182c6",
   "metadata": {},
   "outputs": [
    {
     "name": "stdout",
     "output_type": "stream",
     "text": [
      "En iyi Davies-Bouldin Index için ideal küme sayısı: 5\n"
     ]
    }
   ],
   "source": [
    "best_k = k_values[np.argmin(db_scores)]\n",
    "print(f\"En iyi Davies-Bouldin Index için ideal küme sayısı: {best_k}\")"
   ]
  },
  {
   "cell_type": "code",
   "execution_count": null,
   "id": "82a8c436-7466-462d-9f39-0e13eba8ecb5",
   "metadata": {},
   "outputs": [],
   "source": []
  }
 ],
 "metadata": {
  "kernelspec": {
   "display_name": "Python 3 (ipykernel)",
   "language": "python",
   "name": "python3"
  },
  "language_info": {
   "codemirror_mode": {
    "name": "ipython",
    "version": 3
   },
   "file_extension": ".py",
   "mimetype": "text/x-python",
   "name": "python",
   "nbconvert_exporter": "python",
   "pygments_lexer": "ipython3",
   "version": "3.9.21"
  }
 },
 "nbformat": 4,
 "nbformat_minor": 5
}
